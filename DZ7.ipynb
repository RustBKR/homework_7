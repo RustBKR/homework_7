{
 "cells": [
  {
   "cell_type": "code",
   "execution_count": 31,
   "metadata": {},
   "outputs": [
    {
     "name": "stdout",
     "output_type": "stream",
     "text": [
      "Введите начальную дату в формате 'ГГГГ-ММ-ДД': 2018-01-01\n",
      "Введите конечную дату в формате 'ГГГГ-ММ-ДД': 2017-01-01\n",
      "Список дней между начальной и конечной датой:  []\n"
     ]
    }
   ],
   "source": [
    "# Задание 1\n",
    "# Напишите функцию date_range, которая возвращает список дней между датами start_date и end_date.\n",
    "# Даты должны вводиться в формате YYYY-MM-DD.\n",
    "\n",
    "from datetime import datetime\n",
    "\n",
    "from datetime import timedelta\n",
    "\n",
    "def date_range():\n",
    "    days_list = []\n",
    "    start_date = input(\"Введите начальную дату в формате 'ГГГГ-ММ-ДД': \")\n",
    "    end_date = input(\"Введите конечную дату в формате 'ГГГГ-ММ-ДД': \")\n",
    "    start_date_dt = datetime.strptime(start_date, '%Y-%m-%d')\n",
    "    end_date_dt = datetime.strptime(end_date, '%Y-%m-%d')\n",
    "    current_date_dt = start_date_dt\n",
    "\n",
    "    while current_date_dt <= end_date_dt:\n",
    "\n",
    "        days_list.append(current_date_dt.day)\n",
    "        current_date_dt += timedelta(days=1)\n",
    "        \n",
    "    return days_list\n",
    "\n",
    "print('Список дней между начальной и конечной датой: ', date_range())"
   ]
  },
  {
   "cell_type": "code",
   "execution_count": 38,
   "metadata": {},
   "outputs": [
    {
     "name": "stdout",
     "output_type": "stream",
     "text": [
      "Введите начальную дату в формате 'ГГГГ-ММ-ДД': 2018-01-01\n",
      "Введите конечную дату в формате 'ГГГГ-ММ-ДД': 2018-01-07\n",
      "Список дней между начальной и конечной датой:  [1, 2, 3, 4, 5, 6, 7]\n"
     ]
    }
   ],
   "source": [
    "# Задание 2\n",
    "# Дополните функцию из первого задания проверкой на корректность дат.\n",
    "# В случае неверного формата или если start_date > end_date должен возвращаться пустой список.\n",
    "\n",
    "def date_range():\n",
    "    days_list = []\n",
    "    start_date = input(\"Введите начальную дату в формате 'ГГГГ-ММ-ДД': \")\n",
    "    end_date = input(\"Введите конечную дату в формате 'ГГГГ-ММ-ДД': \")\n",
    "    \n",
    "    try:\n",
    "        start_date_dt = datetime.strptime(start_date, '%Y-%m-%d')\n",
    "    except ValueError:\n",
    "        print('Неверный формат начальной даты')\n",
    "        return days_list\n",
    "    \n",
    "    try:\n",
    "        end_date_dt = datetime.strptime(end_date, '%Y-%m-%d')\n",
    "    except ValueError:\n",
    "        print('Неверный формат конечной даты')\n",
    "        return days_list\n",
    "    \n",
    "    current_date_dt = start_date_dt\n",
    "    \n",
    "    if start_date_dt > end_date_dt:\n",
    "        print('Начальная дата позже конечной даты')\n",
    "    else:\n",
    "        while current_date_dt <= end_date_dt:\n",
    "\n",
    "            days_list.append(current_date_dt.day)\n",
    "            current_date_dt += timedelta(days=1)\n",
    "    return days_list\n",
    "\n",
    "print('Список дней между начальной и конечной датой: ', date_range())"
   ]
  },
  {
   "cell_type": "code",
   "execution_count": 44,
   "metadata": {},
   "outputs": [
    {
     "name": "stdout",
     "output_type": "stream",
     "text": [
      "['True', 'False', 'False']\n"
     ]
    }
   ],
   "source": [
    "# Задание 3\n",
    "# Дан поток дат в формате YYYY-MM-DD, в которых встречаются некорректные значения:\n",
    "# stream = [‘2018-04-02’, ‘2018-02-29’, ‘2018-19-02’]\n",
    "\n",
    "# Напишите функцию, которая проверяет эти даты на корректность.\n",
    "# Т. е. для каждой даты возвращает True (дата корректна) или False (некорректная дата).\n",
    "\n",
    "stream = ['2018-04-02', '2018-02-29', '2018-19-02']\n",
    "\n",
    "def check_date(stream):\n",
    "    i = 0\n",
    "    result = []\n",
    "    for x in stream:\n",
    "        cur_date = stream[i]\n",
    "        try:\n",
    "            datetime.strptime(cur_date, '%Y-%m-%d')\n",
    "            result.append('True')\n",
    "            i += 1\n",
    "        except ValueError:\n",
    "            result.append('False')\n",
    "            i += 1\n",
    "    return result\n",
    "\n",
    "print(check_date(stream))   "
   ]
  },
  {
   "cell_type": "markdown",
   "metadata": {},
   "source": [
    "Задание 4 (бонусное)\n",
    "Задание:\n",
    "1.\tЧто значит ошибка list index out of range?\n",
    "2.\tПочему при первом запуске функция работает корректно, а при втором - нет?\n",
    "\n",
    "1. Ошибка означает, что заданная позиция(номер) элемента списка находиться вне диапазона длины списка.\n",
    "\n",
    "2. При первом запуске список default_list внутри функции был перезаписан и уменьшен на один элемент с помощью метода remove.\n",
    "   В списке осталось два элемента, соответсвенно и в оперативной памяти. И когда запускаем во второй раз функцию, то уже сокращаем список еще на один эелемент. Остался один элемент в списке. При этом при возращении списка пытаемся вернуть значение элемента второго с конца, что вне диапазона данного списка. Для повторной обработки, чтобы не было ошибки надо заново объявлять первоначальный список, а лучше внутри функции скопировать с помощью модуля copy.deepcopy()."
   ]
  }
 ],
 "metadata": {
  "kernelspec": {
   "display_name": "Python 3",
   "language": "python",
   "name": "python3"
  },
  "language_info": {
   "codemirror_mode": {
    "name": "ipython",
    "version": 3
   },
   "file_extension": ".py",
   "mimetype": "text/x-python",
   "name": "python",
   "nbconvert_exporter": "python",
   "pygments_lexer": "ipython3",
   "version": "3.7.3"
  }
 },
 "nbformat": 4,
 "nbformat_minor": 2
}
